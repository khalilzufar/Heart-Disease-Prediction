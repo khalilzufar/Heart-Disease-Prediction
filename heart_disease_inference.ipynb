{
 "cells": [
  {
   "cell_type": "markdown",
   "metadata": {},
   "source": [
    "# Perkenalan"
   ]
  },
  {
   "cell_type": "markdown",
   "metadata": {},
   "source": [
    "---\n",
    "Nama : Khalil Zufar\n",
    "\n",
    "Batch : HCK - 020\n",
    "\n",
    "Objective: Membuat model prediksi untuk mengidentifikasi siapa saja yang memiliki risiko terkena gagal jantung berdasarkan data medis yang tersedia.\n",
    "\n",
    "---"
   ]
  },
  {
   "cell_type": "markdown",
   "metadata": {},
   "source": [
    "# Import Libraries"
   ]
  },
  {
   "cell_type": "code",
   "execution_count": 1,
   "metadata": {},
   "outputs": [],
   "source": [
    "import pandas as pd\n",
    "import pickle"
   ]
  },
  {
   "cell_type": "code",
   "execution_count": 2,
   "metadata": {},
   "outputs": [],
   "source": [
    "# Load model dan pipeline\n",
    "with open('random_forest_model.pkl', 'rb') as file_1:\n",
    "    model = pickle.load(file_1)\n",
    "\n",
    "with open('preprocessing_pipeline.pkl', 'rb') as file_2:\n",
    "    pipeline = pickle.load(file_2)"
   ]
  },
  {
   "cell_type": "code",
   "execution_count": 3,
   "metadata": {},
   "outputs": [
    {
     "name": "stdout",
     "output_type": "stream",
     "text": [
      "Hasil Prediksi Risiko Gagal Jantung:\n",
      "[0 1 0 1 0]\n"
     ]
    }
   ],
   "source": [
    "# Buat sampel data inferensi\n",
    "data_inference = pd.DataFrame({\n",
    "    \"Age\": [40, 49, 37, 48, 54],\n",
    "    \"Sex\": [\"M\", \"F\", \"M\", \"F\", \"M\"],\n",
    "    \"ChestPainType\": [\"ATA\", \"NAP\", \"ATA\", \"ASY\", \"NAP\"],\n",
    "    \"RestingBP\": [140, 160, 130, 138, 150],\n",
    "    \"Cholesterol\": [289, 180, 283, 214, 195],\n",
    "    \"FastingBS\": [0, 0, 0, 0, 0],\n",
    "    \"MaxHR\": [172, 156, 98, 108, 122],\n",
    "    \"ExerciseAngina\": [\"N\", \"N\", \"N\", \"Y\", \"N\"],\n",
    "    \"Oldpeak\": [0.0, 1.0, 0.0, 1.5, 0.0],\n",
    "    \"ST_Slope\": [\"Up\", \"Flat\", \"Up\", \"Flat\", \"Up\"],\n",
    "})\n",
    "\n",
    "# Lakukan preprocessing pada data inferensi\n",
    "data_inference_prep = pipeline.transform(data_inference)\n",
    "\n",
    "# Lakukan prediksi dengan model yang sudah di-training\n",
    "y_pred_inference = model.predict(data_inference_prep)\n",
    "\n",
    "# Menampilkan hasil prediksi\n",
    "print(\"Hasil Prediksi Risiko Gagal Jantung:\")\n",
    "print(y_pred_inference) "
   ]
  },
  {
   "cell_type": "code",
   "execution_count": 4,
   "metadata": {},
   "outputs": [],
   "source": [
    "#masukkan hasil prediksi ke dataframe data inference\n",
    "data_inference['Hasil Prediksi'] = y_pred_inference \n"
   ]
  },
  {
   "cell_type": "code",
   "execution_count": 5,
   "metadata": {},
   "outputs": [
    {
     "data": {
      "text/html": [
       "<div>\n",
       "<style scoped>\n",
       "    .dataframe tbody tr th:only-of-type {\n",
       "        vertical-align: middle;\n",
       "    }\n",
       "\n",
       "    .dataframe tbody tr th {\n",
       "        vertical-align: top;\n",
       "    }\n",
       "\n",
       "    .dataframe thead th {\n",
       "        text-align: right;\n",
       "    }\n",
       "</style>\n",
       "<table border=\"1\" class=\"dataframe\">\n",
       "  <thead>\n",
       "    <tr style=\"text-align: right;\">\n",
       "      <th></th>\n",
       "      <th>Age</th>\n",
       "      <th>Sex</th>\n",
       "      <th>ChestPainType</th>\n",
       "      <th>RestingBP</th>\n",
       "      <th>Cholesterol</th>\n",
       "      <th>FastingBS</th>\n",
       "      <th>MaxHR</th>\n",
       "      <th>ExerciseAngina</th>\n",
       "      <th>Oldpeak</th>\n",
       "      <th>ST_Slope</th>\n",
       "      <th>Hasil Prediksi</th>\n",
       "    </tr>\n",
       "  </thead>\n",
       "  <tbody>\n",
       "    <tr>\n",
       "      <th>0</th>\n",
       "      <td>40</td>\n",
       "      <td>M</td>\n",
       "      <td>ATA</td>\n",
       "      <td>140</td>\n",
       "      <td>289</td>\n",
       "      <td>0</td>\n",
       "      <td>172</td>\n",
       "      <td>N</td>\n",
       "      <td>0.0</td>\n",
       "      <td>Up</td>\n",
       "      <td>0</td>\n",
       "    </tr>\n",
       "    <tr>\n",
       "      <th>1</th>\n",
       "      <td>49</td>\n",
       "      <td>F</td>\n",
       "      <td>NAP</td>\n",
       "      <td>160</td>\n",
       "      <td>180</td>\n",
       "      <td>0</td>\n",
       "      <td>156</td>\n",
       "      <td>N</td>\n",
       "      <td>1.0</td>\n",
       "      <td>Flat</td>\n",
       "      <td>1</td>\n",
       "    </tr>\n",
       "    <tr>\n",
       "      <th>2</th>\n",
       "      <td>37</td>\n",
       "      <td>M</td>\n",
       "      <td>ATA</td>\n",
       "      <td>130</td>\n",
       "      <td>283</td>\n",
       "      <td>0</td>\n",
       "      <td>98</td>\n",
       "      <td>N</td>\n",
       "      <td>0.0</td>\n",
       "      <td>Up</td>\n",
       "      <td>0</td>\n",
       "    </tr>\n",
       "    <tr>\n",
       "      <th>3</th>\n",
       "      <td>48</td>\n",
       "      <td>F</td>\n",
       "      <td>ASY</td>\n",
       "      <td>138</td>\n",
       "      <td>214</td>\n",
       "      <td>0</td>\n",
       "      <td>108</td>\n",
       "      <td>Y</td>\n",
       "      <td>1.5</td>\n",
       "      <td>Flat</td>\n",
       "      <td>1</td>\n",
       "    </tr>\n",
       "    <tr>\n",
       "      <th>4</th>\n",
       "      <td>54</td>\n",
       "      <td>M</td>\n",
       "      <td>NAP</td>\n",
       "      <td>150</td>\n",
       "      <td>195</td>\n",
       "      <td>0</td>\n",
       "      <td>122</td>\n",
       "      <td>N</td>\n",
       "      <td>0.0</td>\n",
       "      <td>Up</td>\n",
       "      <td>0</td>\n",
       "    </tr>\n",
       "  </tbody>\n",
       "</table>\n",
       "</div>"
      ],
      "text/plain": [
       "   Age Sex ChestPainType  RestingBP  Cholesterol  FastingBS  MaxHR  \\\n",
       "0   40   M           ATA        140          289          0    172   \n",
       "1   49   F           NAP        160          180          0    156   \n",
       "2   37   M           ATA        130          283          0     98   \n",
       "3   48   F           ASY        138          214          0    108   \n",
       "4   54   M           NAP        150          195          0    122   \n",
       "\n",
       "  ExerciseAngina  Oldpeak ST_Slope  Hasil Prediksi  \n",
       "0              N      0.0       Up               0  \n",
       "1              N      1.0     Flat               1  \n",
       "2              N      0.0       Up               0  \n",
       "3              Y      1.5     Flat               1  \n",
       "4              N      0.0       Up               0  "
      ]
     },
     "execution_count": 5,
     "metadata": {},
     "output_type": "execute_result"
    }
   ],
   "source": [
    "data_inference"
   ]
  }
 ],
 "metadata": {
  "kernelspec": {
   "display_name": "phase1",
   "language": "python",
   "name": "python3"
  },
  "language_info": {
   "codemirror_mode": {
    "name": "ipython",
    "version": 3
   },
   "file_extension": ".py",
   "mimetype": "text/x-python",
   "name": "python",
   "nbconvert_exporter": "python",
   "pygments_lexer": "ipython3",
   "version": "3.10.14"
  }
 },
 "nbformat": 4,
 "nbformat_minor": 2
}
